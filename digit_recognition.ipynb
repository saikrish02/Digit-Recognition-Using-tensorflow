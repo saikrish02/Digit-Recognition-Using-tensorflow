{
  "nbformat": 4,
  "nbformat_minor": 0,
  "metadata": {
    "colab": {
      "provenance": []
    },
    "kernelspec": {
      "name": "python3",
      "display_name": "Python 3"
    },
    "language_info": {
      "name": "python"
    }
  },
  "cells": [
    {
      "cell_type": "code",
      "execution_count": 3,
      "metadata": {
        "id": "cA2e34iGyJVi"
      },
      "outputs": [],
      "source": [
        "import tensorflow\n"
      ]
    },
    {
      "cell_type": "code",
      "source": [
        "from tensorflow.python.ops.math_ops import mat_mul\n",
        "from tensorflow import keras\n",
        "import matplotlib.pyplot as plt\n",
        "%matplotlib inline\n",
        "import numpy as np "
      ],
      "metadata": {
        "id": "CaBsm9AxycOK"
      },
      "execution_count": 4,
      "outputs": []
    },
    {
      "cell_type": "code",
      "source": [
        "(X_train, y_train), (X_test, y_test) = keras.datasets.mnist.load_data()"
      ],
      "metadata": {
        "colab": {
          "base_uri": "https://localhost:8080/"
        },
        "id": "NOmVaUjUy2ve",
        "outputId": "652d1019-23a2-4d9c-bc09-a1f0fad01d06"
      },
      "execution_count": 5,
      "outputs": [
        {
          "output_type": "stream",
          "name": "stdout",
          "text": [
            "Downloading data from https://storage.googleapis.com/tensorflow/tf-keras-datasets/mnist.npz\n",
            "11490434/11490434 [==============================] - 1s 0us/step\n"
          ]
        }
      ]
    },
    {
      "cell_type": "code",
      "source": [
        "len(X_train)"
      ],
      "metadata": {
        "colab": {
          "base_uri": "https://localhost:8080/"
        },
        "id": "MtqqZ5HjzJuV",
        "outputId": "51946bbe-6642-443d-f7e0-cfffa0dc1f07"
      },
      "execution_count": 6,
      "outputs": [
        {
          "output_type": "execute_result",
          "data": {
            "text/plain": [
              "60000"
            ]
          },
          "metadata": {},
          "execution_count": 6
        }
      ]
    },
    {
      "cell_type": "code",
      "source": [
        "plt.matshow(X_train[2])"
      ],
      "metadata": {
        "colab": {
          "base_uri": "https://localhost:8080/",
          "height": 292
        },
        "id": "B2mZZE8vzaBu",
        "outputId": "7cdf0353-b3bd-408a-9302-e6c14db3ff9e"
      },
      "execution_count": 7,
      "outputs": [
        {
          "output_type": "execute_result",
          "data": {
            "text/plain": [
              "<matplotlib.image.AxesImage at 0x7fbae449d250>"
            ]
          },
          "metadata": {},
          "execution_count": 7
        },
        {
          "output_type": "display_data",
          "data": {
            "text/plain": [
              "<Figure size 288x288 with 1 Axes>"
            ],
            "image/png": "[encoded data removed]"
          },
          "metadata": {
            "needs_background": "light"
          }
        }
      ]
    },
    {
      "cell_type": "code",
      "source": [
        "X_train = X_train / 255\n",
        "X_test = X_test / 255"
      ],
      "metadata": {
        "id": "XX844KdkXIkb"
      },
      "execution_count": 8,
      "outputs": []
    },
    {
      "cell_type": "code",
      "source": [
        "x_train_flattened = X_train.reshape(len(X_train), 28*28)\n",
        "x_train_flattened[0]"
      ],
      "metadata": {
        "id": "USKjFU7A0Dsc"
      },
      "execution_count": null,
      "outputs": []
    },
    {
      "cell_type": "code",
      "source": [
        "model = keras.Sequential([\n",
        "    keras.layers.Dense(10, input_shape=(784,), activation='sigmoid')\n",
        "])\n",
        "\n",
        "model"
      ],
      "metadata": {
        "colab": {
          "base_uri": "https://localhost:8080/"
        },
        "id": "Bm_TTBuiFKjg",
        "outputId": "0377c2ac-4c42-4e8a-f449-671b9322b9d0"
      },
      "execution_count": 10,
      "outputs": [
        {
          "output_type": "execute_result",
          "data": {
            "text/plain": [
              "<keras.engine.sequential.Sequential at 0x7fbae4402e50>"
            ]
          },
          "metadata": {},
          "execution_count": 10
        }
      ]
    },
    {
      "cell_type": "code",
      "source": [
        "model.compile(\n",
        "    optimizer='adam',\n",
        "    loss='sparse_categorical_crossentropy',\n",
        "    metrics=['accuracy']\n",
        "    )\n",
        "\n",
        "\n",
        "model.fit(x_train_flattened, y_train, epochs=5)\n",
        "\n"
      ],
      "metadata": {
        "id": "jaoNKUXYG_Mu"
      },
      "execution_count": null,
      "outputs": []
    },
    {
      "cell_type": "code",
      "source": [
        "X_test_flattened = X_test.reshape(len(X_test), 28 * 28)\n",
        "X_test_flattened[0]"
      ],
      "metadata": {
        "id": "qxfq9YkCXmFP"
      },
      "execution_count": null,
      "outputs": []
    },
    {
      "cell_type": "code",
      "source": [
        "model.evaluate(X_test_flattened, y_test)"
      ],
      "metadata": {
        "colab": {
          "base_uri": "https://localhost:8080/"
        },
        "id": "oLlxZPiIYCFL",
        "outputId": "86d2256f-d85f-4056-bac3-f8bf6d9f8d23"
      },
      "execution_count": 13,
      "outputs": [
        {
          "output_type": "stream",
          "name": "stdout",
          "text": [
            "313/313 [==============================] - 1s 2ms/step - loss: 0.2652 - accuracy: 0.9268\n"
          ]
        },
        {
          "output_type": "execute_result",
          "data": {
            "text/plain": [
              "[0.26522913575172424, 0.926800012588501]"
            ]
          },
          "metadata": {},
          "execution_count": 13
        }
      ]
    },
    {
      "cell_type": "code",
      "source": [
        "plt.matshow(X_test[3])"
      ],
      "metadata": {
        "id": "UM1eiwqPZGSL"
      },
      "execution_count": null,
      "outputs": []
    },
    {
      "cell_type": "code",
      "source": [
        "y_predicted = model.predict(X_test_flattened)"
      ],
      "metadata": {
        "id": "04St9X8kYiLp"
      },
      "execution_count": null,
      "outputs": []
    },
    {
      "cell_type": "code",
      "source": [
        "y_predicted_labels = [np.argmax(i) for i in y_predicted]\n",
        "y_predicted_labels"
      ],
      "metadata": {
        "id": "gUT8YlNlto48"
      },
      "execution_count": null,
      "outputs": []
    },
    {
      "cell_type": "code",
      "source": [
        "np.argmax(y_predicted[3])"
      ],
      "metadata": {
        "id": "tMAZVdA-ZkX_"
      },
      "execution_count": null,
      "outputs": []
    },
    {
      "cell_type": "code",
      "source": [
        "cf = tensorflow.math.confusion_matrix(labels=y_test, predictions=y_predicted_labels)\n",
        "cf"
      ],
      "metadata": {
        "colab": {
          "base_uri": "https://localhost:8080/"
        },
        "id": "PSZSmQ2vs4m8",
        "outputId": "e35e7d81-7b21-4160-a8ef-d94214119a75"
      },
      "execution_count": 34,
      "outputs": [
        {
          "output_type": "execute_result",
          "data": {
            "text/plain": [
              "<tf.Tensor: shape=(10, 10), dtype=int32, numpy=\n",
              "array([[ 973,    0,    0,    0,    0,    1,    1,    0,    2,    3],\n",
              "       [   0, 1120,    4,    0,    0,    1,    4,    1,    5,    0],\n",
              "       [   5,    2,  998,    4,    1,    0,    2,    8,   12,    0],\n",
              "       [   0,    0,    3,  985,    0,    2,    0,    5,    2,   13],\n",
              "       [   5,    0,    1,    0,  940,    0,    5,    4,    1,   26],\n",
              "       [   5,    0,    0,   15,    3,  846,    9,    2,    7,    5],\n",
              "       [   5,    3,    2,    0,    2,    8,  935,    0,    3,    0],\n",
              "       [   2,    4,    7,    4,    1,    0,    0,  994,    2,   14],\n",
              "       [   5,    0,    4,    2,    4,    4,    1,    3,  945,    6],\n",
              "       [   4,    2,    1,    3,    5,    1,    0,    2,    2,  989]],\n",
              "      dtype=int32)>"
            ]
          },
          "metadata": {},
          "execution_count": 34
        }
      ]
    },
    {
      "cell_type": "code",
      "source": [
        "\n",
        "model = keras.Sequential([\n",
        "    keras.layers.Dense(100, input_shape=(784, ), activation='relu'),\n",
        "    keras.layers.Dense(10, activation='sigmoid')\n",
        "])\n",
        "\n",
        "model.compile(\n",
        "    optimizer='adam',\n",
        "    loss='sparse_categorical_crossentropy',\n",
        "    metrics=[ 'accuracy']\n",
        "    )\n",
        "\n",
        "\n",
        "model.fit(x_train_flattened, y_train, epochs=5)\n",
        "\n",
        "y_predicted = model.predict(X_test_flattened)\n",
        "y_predicted_labels = [np.argmax(i) for i in y_predicted]\n",
        "cf = tensorflow.math.confusion_matrix(labels=y_test, predictions=y_predicted_labels)\n",
        "cf"
      ],
      "metadata": {
        "colab": {
          "base_uri": "https://localhost:8080/"
        },
        "id": "-qpNnMz7vFMK",
        "outputId": "199da2c9-681f-4974-c068-73993aaa2ee7"
      },
      "execution_count": null,
      "outputs": [
        {
          "output_type": "stream",
          "name": "stdout",
          "text": [
            "Epoch 1/5\n",
            "1875/1875 [==============================] - 6s 3ms/step - loss: 0.2724 - accuracy: 0.9228\n",
            "Epoch 2/5\n",
            "1875/1875 [==============================] - 5s 3ms/step - loss: 0.1227 - accuracy: 0.9639\n",
            "Epoch 3/5\n",
            "1875/1875 [==============================] - 5s 3ms/step - loss: 0.0870 - accuracy: 0.9737\n",
            "Epoch 4/5\n",
            " 760/1875 [===========>..................] - ETA: 3s - loss: 0.0639 - accuracy: 0.9810"
          ]
        }
      ]
    },
    {
      "cell_type": "code",
      "source": [],
      "metadata": {
        "colab": {
          "base_uri": "https://localhost:8080/"
        },
        "id": "yxH8M1IMxzMY",
        "outputId": "71e0c46a-2326-4512-fdde-bc3c4a4deada"
      },
      "execution_count": 33,
      "outputs": [
        {
          "output_type": "stream",
          "name": "stdout",
          "text": [
            "313/313 [==============================] - 1s 2ms/step\n"
          ]
        },
        {
          "output_type": "execute_result",
          "data": {
            "text/plain": [
              "<tf.Tensor: shape=(10, 10), dtype=int32, numpy=\n",
              "array([[ 973,    0,    0,    0,    0,    1,    1,    0,    2,    3],\n",
              "       [   0, 1120,    4,    0,    0,    1,    4,    1,    5,    0],\n",
              "       [   5,    2,  998,    4,    1,    0,    2,    8,   12,    0],\n",
              "       [   0,    0,    3,  985,    0,    2,    0,    5,    2,   13],\n",
              "       [   5,    0,    1,    0,  940,    0,    5,    4,    1,   26],\n",
              "       [   5,    0,    0,   15,    3,  846,    9,    2,    7,    5],\n",
              "       [   5,    3,    2,    0,    2,    8,  935,    0,    3,    0],\n",
              "       [   2,    4,    7,    4,    1,    0,    0,  994,    2,   14],\n",
              "       [   5,    0,    4,    2,    4,    4,    1,    3,  945,    6],\n",
              "       [   4,    2,    1,    3,    5,    1,    0,    2,    2,  989]],\n",
              "      dtype=int32)>"
            ]
          },
          "metadata": {},
          "execution_count": 33
        }
      ]
    }
  ]
}